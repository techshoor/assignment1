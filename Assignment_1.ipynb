{
  "nbformat": 4,
  "nbformat_minor": 5,
  "metadata": {
    "kernelspec": {
      "display_name": "Python 3",
      "language": "python",
      "name": "python3"
    },
    "language_info": {
      "codemirror_mode": {
        "name": "ipython",
        "version": 3
      },
      "file_extension": ".py",
      "mimetype": "text/x-python",
      "name": "python",
      "nbconvert_exporter": "python",
      "pygments_lexer": "ipython3",
      "version": "3.8.8"
    },
    "colab": {
      "name": "Assignment 1.ipynb",
      "provenance": [],
      "include_colab_link": true
    }
  },
  "cells": [
    {
      "cell_type": "markdown",
      "metadata": {
        "id": "view-in-github",
        "colab_type": "text"
      },
      "source": [
        "<a href=\"https://colab.research.google.com/github/techshoor/assignment1/blob/main/Assignment_1.ipynb\" target=\"_parent\"><img src=\"https://colab.research.google.com/assets/colab-badge.svg\" alt=\"Open In Colab\"/></a>"
      ]
    },
    {
      "cell_type": "markdown",
      "metadata": {
        "id": "5c2ab5cf"
      },
      "source": [
        "# Assignment 1"
      ],
      "id": "5c2ab5cf"
    },
    {
      "cell_type": "markdown",
      "metadata": {
        "id": "57b5e248"
      },
      "source": [
        "### Q1Take input first name and last name from user store in two variables and then concatenate both variables and print full name"
      ],
      "id": "57b5e248"
    },
    {
      "cell_type": "code",
      "metadata": {
        "colab": {
          "base_uri": "https://localhost:8080/"
        },
        "id": "57ce7797",
        "outputId": "258f4ad6-5189-4108-f038-a10bc275e61d"
      },
      "source": [
        "print(\"Hello\")"
      ],
      "id": "57ce7797",
      "execution_count": null,
      "outputs": [
        {
          "output_type": "stream",
          "name": "stdout",
          "text": [
            "Hello\n"
          ]
        }
      ]
    },
    {
      "cell_type": "markdown",
      "metadata": {
        "id": "11fd6687"
      },
      "source": [
        "### Q2 Write a Python program to take input from user as a string then print first 2 and the last 2 chars from a given a string."
      ],
      "id": "11fd6687"
    },
    {
      "cell_type": "code",
      "metadata": {
        "id": "11272b81"
      },
      "source": [
        ""
      ],
      "id": "11272b81",
      "execution_count": null,
      "outputs": []
    },
    {
      "cell_type": "markdown",
      "metadata": {
        "id": "72d58e06"
      },
      "source": [
        "### Q3 Write a Python program to remove the “h” character from the “TechShoor”."
      ],
      "id": "72d58e06"
    },
    {
      "cell_type": "code",
      "metadata": {
        "id": "66b43238"
      },
      "source": [
        ""
      ],
      "id": "66b43238",
      "execution_count": null,
      "outputs": []
    },
    {
      "cell_type": "markdown",
      "metadata": {
        "id": "8908f564"
      },
      "source": [
        "### Q4 Write a Python program that accepts a comma separated sequence of words as input and prints the unique words in sorted form (alphanumerically).Sample Words: car, bike, truck, cycle, skateboard, civic"
      ],
      "id": "8908f564"
    },
    {
      "cell_type": "code",
      "metadata": {
        "id": "f45b81c4"
      },
      "source": [
        ""
      ],
      "id": "f45b81c4",
      "execution_count": null,
      "outputs": []
    },
    {
      "cell_type": "markdown",
      "metadata": {
        "id": "9b8ee0ff"
      },
      "source": [
        "### Q5 Write a Python Program take sample string: “I am a bad person” to replace with “I am a good person”. Hint (Use replace function)"
      ],
      "id": "9b8ee0ff"
    },
    {
      "cell_type": "code",
      "metadata": {
        "id": "55493d07"
      },
      "source": [
        ""
      ],
      "id": "55493d07",
      "execution_count": null,
      "outputs": []
    },
    {
      "cell_type": "markdown",
      "metadata": {
        "id": "cd70f5e2"
      },
      "source": [
        "### Q6 Write a Python program to reverse any string."
      ],
      "id": "cd70f5e2"
    },
    {
      "cell_type": "code",
      "metadata": {
        "id": "0913e1bd"
      },
      "source": [
        ""
      ],
      "id": "0913e1bd",
      "execution_count": null,
      "outputs": []
    },
    {
      "cell_type": "markdown",
      "metadata": {
        "id": "577a58d2"
      },
      "source": [
        "### Q7 Write a Python program which accepts the radius of a circle from the user and compute the area"
      ],
      "id": "577a58d2"
    },
    {
      "cell_type": "code",
      "metadata": {
        "id": "46302883"
      },
      "source": [
        ""
      ],
      "id": "46302883",
      "execution_count": null,
      "outputs": []
    },
    {
      "cell_type": "markdown",
      "metadata": {
        "id": "3850d064"
      },
      "source": [
        "### Q8 Write a Python Program to count how many times ‘o’ in “Gooooooooooooooooogle”"
      ],
      "id": "3850d064"
    },
    {
      "cell_type": "code",
      "metadata": {
        "id": "fadae19f"
      },
      "source": [
        ""
      ],
      "id": "fadae19f",
      "execution_count": null,
      "outputs": []
    },
    {
      "cell_type": "markdown",
      "metadata": {
        "id": "9edfe853"
      },
      "source": [
        "### Q9 Create a Python Program to slice this string “I like to eat banana” and print only “ike to eat”"
      ],
      "id": "9edfe853"
    },
    {
      "cell_type": "code",
      "metadata": {
        "id": "f3f2e58f"
      },
      "source": [
        ""
      ],
      "id": "f3f2e58f",
      "execution_count": null,
      "outputs": []
    },
    {
      "cell_type": "markdown",
      "metadata": {
        "id": "1ed23ae9"
      },
      "source": [
        "### Q10 Write a Python program to print the following string in a specific format. (see Output)"
      ],
      "id": "1ed23ae9"
    },
    {
      "cell_type": "raw",
      "metadata": {
        "id": "6c2b61ee"
      },
      "source": [
        "Sample String : \"Twinkle, twinkle, little star, How I wonder what you are! Up above the world so high, Like a diamond in the sky. Twinkle, twinkle, little star,How I wonder what you are\"\n",
        "\n",
        "Output :\n",
        "\n",
        "Twinkle, twinkle, little star,\n",
        "  How I wonder what you are!\n",
        "        Up above the world so high,\n",
        "        Like a diamond in the sky.\n",
        "Twinkle, twinkle, little star,\n",
        "  How I wonder what you are\n",
        "  \n",
        "The above output is required in print form"
      ],
      "id": "6c2b61ee"
    },
    {
      "cell_type": "code",
      "metadata": {
        "id": "e9f5d2a6"
      },
      "source": [
        ""
      ],
      "id": "e9f5d2a6",
      "execution_count": null,
      "outputs": []
    }
  ]
}